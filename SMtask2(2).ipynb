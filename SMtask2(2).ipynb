{
 "cells": [
  {
   "cell_type": "code",
   "execution_count": 4,
   "id": "35ace55c-d30b-4f58-8796-689106c63311",
   "metadata": {},
   "outputs": [
    {
     "name": "stdout",
     "output_type": "stream",
     "text": [
      "RMSE: 2957.6020458439425\n"
     ]
    }
   ],
   "source": [
    "import pandas as pd\n",
    "import numpy as np\n",
    "import re\n",
    "import string\n",
    "import seaborn as sns\n",
    "import matplotlib.pyplot as plt\n",
    "from sklearn.model_selection import train_test_split\n",
    "from sklearn.feature_extraction.text import TfidfVectorizer\n",
    "from sklearn.ensemble import RandomForestRegressor\n",
    "from sklearn.metrics import mean_squared_error\n",
    "from textblob import TextBlob\n",
    "\n",
    "# Load structured data\n",
    "df = pd.read_csv(r\"C:\\Users\\Admin\\Documents\\slash mark\\task2(2)_dataset.csv\")\n",
    "\n",
    "# Placeholder: Load customer reviews (replace with actual dataset or scraping method)\n",
    "reviews = pd.DataFrame({\n",
    "    \"Product_ID\": [\"P00069042\", \"P00248942\", \"P00087842\", \"P00085442\"],\n",
    "    \"Review_Text\": [\n",
    "        \"Great product! Loved the Black Friday discount.\",\n",
    "        \"Not satisfied with the quality. Delivery was late.\",\n",
    "        \"Amazing deal. Will buy again next year!\",\n",
    "        \"Price was high even on sale. Not worth it.\"\n",
    "    ]\n",
    "})\n",
    "\n",
    "# Text preprocessing function\n",
    "def clean_text(text):\n",
    "    text = text.lower()\n",
    "    text = re.sub(f\"[{string.punctuation}]\", \"\", text)\n",
    "    text = re.sub(r\"\\d+\", \"\", text)  # Remove numbers\n",
    "    return text\n",
    "\n",
    "reviews[\"Cleaned_Review\"] = reviews[\"Review_Text\"].apply(clean_text)\n",
    "\n",
    "# Sentiment Analysis\n",
    "reviews[\"Sentiment\"] = reviews[\"Cleaned_Review\"].apply(lambda x: TextBlob(x).sentiment.polarity)\n",
    "\n",
    "# Merge sentiment with structured data\n",
    "df = df.merge(reviews, on=\"Product_ID\", how=\"left\")\n",
    "df[\"Sentiment\"] = df[\"Sentiment\"].fillna(0)\n",
    "\n",
    "\n",
    "# Encode categorical columns\n",
    "from sklearn.preprocessing import LabelEncoder\n",
    "\n",
    "# Identify categorical columns\n",
    "categorical_cols = [\"Gender\", \"Age\", \"City_Category\", \"Stay_In_Current_City_Years\"]\n",
    "\n",
    "# Apply Label Encoding\n",
    "encoder = LabelEncoder()\n",
    "for col in categorical_cols:\n",
    "    df[col] = encoder.fit_transform(df[col])\n",
    "\n",
    "# Feature selection\n",
    "X = df.drop(columns=[\"User_ID\", \"Product_ID\", \"Purchase\", \"Review_Text\", \"Cleaned_Review\"])\n",
    "y = df[\"Purchase\"]\n",
    "\n",
    "# Train-test split\n",
    "X_train, X_test, y_train, y_test = train_test_split(X, y, test_size=0.2, random_state=42)\n",
    "\n",
    "# Train a Random Forest model\n",
    "model = RandomForestRegressor(n_estimators=50, max_depth=10, random_state=42)\n",
    "model.fit(X_train, y_train)\n",
    "\n",
    "# Predict & evaluate\n",
    "y_pred = model.predict(X_test)\n",
    "rmse = np.sqrt(mean_squared_error(y_test, y_pred))\n",
    "print(f\"RMSE: {rmse}\")\n"
   ]
  }
 ],
 "metadata": {
  "kernelspec": {
   "display_name": "Python 3 (ipykernel)",
   "language": "python",
   "name": "python3"
  },
  "language_info": {
   "codemirror_mode": {
    "name": "ipython",
    "version": 3
   },
   "file_extension": ".py",
   "mimetype": "text/x-python",
   "name": "python",
   "nbconvert_exporter": "python",
   "pygments_lexer": "ipython3",
   "version": "3.13.2"
  }
 },
 "nbformat": 4,
 "nbformat_minor": 5
}
